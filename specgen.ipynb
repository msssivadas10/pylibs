{
 "cells": [
  {
   "cell_type": "code",
   "execution_count": 1,
   "metadata": {},
   "outputs": [],
   "source": [
    "import numpy as np, pandas as pd\n",
    "import json\n",
    "\n",
    "import matplotlib.pyplot as plt\n",
    "plt.style.use('seaborn')"
   ]
  },
  {
   "cell_type": "markdown",
   "metadata": {},
   "source": [
    "data needed:\n",
    "\n",
    "1. energy levels and multiplicity data\n",
    "2. line data (incl. wavelength, levels, transition rate)\n",
    "3. element data such as atomic mass and ionization energy"
   ]
  },
  {
   "cell_type": "code",
   "execution_count": 4,
   "metadata": {},
   "outputs": [],
   "source": [
    "# load databases\n",
    "\n",
    "# a place to store the data\n",
    "class SpectroscopicDatabase:\n",
    "\n",
    "    __slots__ = 'lines', 'levels', 'info'\n",
    "\n",
    "    def __init__(self) -> None:\n",
    "\n",
    "        # specatral lines\n",
    "        self.lines = pd.read_csv('./pylibs/data/lines.csv', \n",
    "                                 names = ['Element', 'SpecNum','Wavelen' ,'Aki', 'Acc', 'Ei', 'Ek', 'gi', 'gk', 'Type'],\n",
    "                                 delimiter = ',', \n",
    "                                 comment = '#', \n",
    "                                 skipinitialspace = True, \n",
    "                                 na_values = ' ')\n",
    "\n",
    "        # energy levels\n",
    "        self.levels = pd.read_csv('./pylibs/data/levels.csv', \n",
    "                                  names = ['Element', 'SpecNum', 'g', 'Level', 'Unceratinity'],\n",
    "                                  delimiter = ',', \n",
    "                                  comment = '#', \n",
    "                                  skipinitialspace = True, \n",
    "                                  na_values = ' ')\n",
    "\n",
    "        # other info, incl. ionization energy\n",
    "        self.info = json.load( open('./pylibs/data/info.json', 'r') )\n",
    "\n",
    "specDB = SpectroscopicDatabase()"
   ]
  },
  {
   "cell_type": "markdown",
   "metadata": {},
   "source": [
    "a plasma is specified by the plasma temperature $T_e$ in $\\rm eV$, electron density $N_e$ in $\\rm cm^{-3}$ and \n",
    "weight fraction of its component elements. in the plasma, each element $X$ exist in atleast its first two \n",
    "ionization states, neutral ($X_I$) and singly ionized ($X_{II}$)."
   ]
  },
  {
   "cell_type": "code",
   "execution_count": 95,
   "metadata": {},
   "outputs": [],
   "source": [
    "# spectrum generator object: blue print\n",
    "class SpectrumGenerator:\n",
    "\n",
    "    __slots__ = 'Te', 'Ne', 'elementData', 'specData', 'lines'\n",
    "\n",
    "    def __init__(self, weights, Te, Ne, db = specDB):\n",
    "        \n",
    "        # check if the all weights add up to 1, and data is available\n",
    "        total = 0.0\n",
    "        for sym, weight in weights.items():\n",
    "\n",
    "            # data for this element should be available\n",
    "            if sym not in db.info.keys():\n",
    "                raise KeyError(f'No data available for element `{sym}`')\n",
    "\n",
    "            # weight must be poistive\n",
    "            if weight < 0:\n",
    "                raise ValueError('Weight of an element cannnot be negative') \n",
    "            total += weight\n",
    "\n",
    "        # check if total weight is 1\n",
    "        if abs(total - 1.) > 1.e-08:\n",
    "            raise ValueError('Total weight must be 1')\n",
    "\n",
    "        # electron temperature (Te) and density (Ne)\n",
    "        assert Te > 0. and Ne > 0. \n",
    "        self.Te, self.Ne = Te, Ne\n",
    "\n",
    "        # element data: a table storing the element-wise data such as the mass, \n",
    "        # weigth and the number fraction \n",
    "        etab = pd.DataFrame([[sym,                  # element symbol\n",
    "                              db.info[sym]['Z'],    # atomic number\n",
    "                              db.info[sym]['Mass'], # atomic mass in u \n",
    "                              weight]               # weight\n",
    "                              for sym, weight in weights.items()], \n",
    "                            columns=['Element', 'AtomicNum', 'Mass', 'Weight']\n",
    "                        ).set_index('Element')\n",
    "        etab.index.names = [None]\n",
    "        self.elementData = etab\n",
    "\n",
    "        # species data: a table storing the species-wise data such as ionization \n",
    "        # energy, partition function, number fraction... \n",
    "\n",
    "        # partition function\n",
    "        def calculate_pf(sym, i):\n",
    "            \n",
    "            lvdata = db.levels.query(f\"(Element=='{sym}') & (SpecNum=={i})\").dropna() # energy levels of this species\n",
    "            \n",
    "            pf = np.sum( lvdata['g'] * np.exp(-lvdata['Level'] / Te) )\n",
    "            return pf\n",
    "\n",
    "        stab = pd.DataFrame([['-'.join([sym, 'I'*i]), # species id: eg. Cu-I\n",
    "                              sym,                    # element symbol\n",
    "                              i,                      # species number \n",
    "                              db.info[sym]['IonizationEnergy'][i-1], # ion energy\n",
    "                              calculate_pf(sym, i)]   # partition function \n",
    "                              for sym in self.elementData.index for i in [1, 2]], \n",
    "                            columns = ['SpecID', 'Element', 'SpecNum', 'IonizationEnergy', 'PartitionFunction']\n",
    "                        ).set_index('SpecID')\n",
    "        stab.index.names = [None]\n",
    "        self.specData = stab\n",
    "\n",
    "        # lines for this combination\n",
    "        self.lines = db.lines.query(\"Element in @self.elementData.index\")\n",
    "        self.lines = self.lines.reset_index().drop(['Type', 'index'], axis=1)\n",
    "        self.lines['Intensity'] = np.nan\n",
    "\n",
    "        self.calculate_numbers() # calculate number fractions\n",
    "\n",
    "        self.calculate_intensities() # calculate line intensities\n",
    "\n",
    "    def calculate_numbers(self):\n",
    "        ...\n",
    "\n",
    "    def calculate_intensities(self):\n",
    "        ...\n",
    "\n",
    "    def get_spectrum(self, x, res = 1000, full_output = False):\n",
    "        ..."
   ]
  },
  {
   "cell_type": "markdown",
   "metadata": {},
   "source": [
    "weight to number fraction conversion: $ n = \\frac{w / m}{ \\sum w / m} $\n",
    "\n",
    "assuming local thermal equilibruim, numbers of ionised species are given by saha-boltzmann equation\n",
    "\n",
    "$$\n",
    "    f_{i} = \\frac{n_{i+1}}{n_{i}} = 6.009\\times 10^{21} \\frac{T_e^{3/2}}{n_e} \\frac{U_{i+1}}{U_{i}} e^{-V_{i}/T_e}\n",
    "$$\n",
    "\n",
    "then $n_{1} = n/(1 + f_{1})$ and $n_{2} = f_{1} n_{1}$, where, $U(T_e)$ is the partition function for that species \n",
    "and $V_i$ is the ionization energy."
   ]
  },
  {
   "cell_type": "code",
   "execution_count": 96,
   "metadata": {},
   "outputs": [],
   "source": [
    "# calculate number fractions of elements and species\n",
    "def calculate_numbers(self):\n",
    "    \n",
    "    # convert element weights to number fractions\n",
    "    self.elementData.eval('Number = Weight / Mass', inplace = True)\n",
    "    self.elementData['Number'] /= self.elementData['Number'].sum() # normalize\n",
    "\n",
    "    # calculate species number fractions, assuming local thermal equilibrium\n",
    "    const = 6.009e+21 * self.Te**1.5 / self.Ne\n",
    "    pf    = self.specData['PartitionFunction'].values\n",
    "    Ei    = self.specData['IonizationEnergy'].values\n",
    "    frac  = const * (pf[1::2] / pf[::2]) * np.exp(-Ei[::2] / self.Te)\n",
    "    \n",
    "    num   = np.zeros_like(pf)\n",
    "    num[::2]  = self.elementData['Number'].values / (1. + frac) # neutral\n",
    "    num[1::2] = num[::2] * frac\n",
    "    self.specData['Number'] = num\n",
    "\n",
    "    return\n",
    "\n",
    "# link this function to the class\n",
    "SpectrumGenerator.calculate_numbers = calculate_numbers"
   ]
  },
  {
   "cell_type": "markdown",
   "metadata": {},
   "source": [
    "for each line of a species, calculate the line intensity as \n",
    "\n",
    "$$\n",
    "    I(\\lambda_{0}) = \\frac{1}{4\\pi} n_k A_{ki} (E_k - E_i)\n",
    "$$\n",
    "\n",
    "where, $A_{ki}$ is the transition rate, $n_k = \\frac{n}{U} g_k \\exp(-E_k/T_e)$ is the population of the upper \n",
    "level of transition, $E_i$ and $E_k$ are the lower and upper energy levels and $\\lambda_{0}$ is the wavelength."
   ]
  },
  {
   "cell_type": "code",
   "execution_count": 120,
   "metadata": {},
   "outputs": [],
   "source": [
    "# calculate line intensities using boltzmann equation\n",
    "def calculate_intensities(self: SpectrumGenerator):\n",
    "\n",
    "    j = self.lines['Element'] + '-' + self.lines['SpecNum'].map({1: 'I', 2: 'II'}) # species id for each line\n",
    "\n",
    "    # calculate upper level population\n",
    "    nk = ( self.specData['Number'].loc[j] / self.specData['PartitionFunction'].loc[j] ).values * self.lines['gk'] * np.exp(-self.lines['Ek'] / self.Te)\n",
    "\n",
    "    # calculate intensity\n",
    "    self.lines['Intensity'] = nk * self.lines['Aki'] * (self.lines['Ek']-self.lines['Ei']) / (4*np.pi)\n",
    "    return\n",
    "\n",
    "# link this function to the class\n",
    "SpectrumGenerator.calculate_intensities = calculate_intensities"
   ]
  },
  {
   "cell_type": "markdown",
   "metadata": {},
   "source": [
    "a gaussian shape is given to each line. if $R$ is the resolving power of the spectrometer, full width at half maximum \n",
    "of that line is $w = \\lambda_0 / R$ and shape function is\n",
    "\n",
    "$$\n",
    "    I(\\lambda) = I(\\lambda_{0}) \\exp \\left[ -4 \\ln(2) \\left( \\frac{\\lambda - \\lambda_0}{w} \\right)^2 \\right]\n",
    "$$\n",
    "\n",
    "add up all the shapes to make the final spectrum."
   ]
  },
  {
   "cell_type": "code",
   "execution_count": 122,
   "metadata": {},
   "outputs": [],
   "source": [
    "# gaussian profile for the line\n",
    "def gaussian(x, center, width):\n",
    "\n",
    "    u = (x - center) / width\n",
    "    return np.exp( -4*np.log(2) * u**2 )\n",
    "\n",
    "# sample the spectrum at given points\n",
    "def get_spectrum(self, x, res = 1000, full_output = False):\n",
    "\n",
    "    spec = pd.DataFrame({'Wavelen': x, })\n",
    "    for s in self.specData.index:\n",
    "        spec[s] = np.zeros_like(x) # intensity for each component spectrum\n",
    "\n",
    "    # calculate spectrum intensity\n",
    "    id = self.lines['Element'] + '-' + self.lines['SpecNum'].map({1: 'I', 2: 'II'}) # species id for each line\n",
    "    for i in self.lines.index:\n",
    "        x0 = self.lines.at[i,'Wavelen']\n",
    "        y  = self.lines.at[i,'Intensity'] * gaussian(x, x0, x0 / res)\n",
    "\n",
    "        spec[id[i]] += y\n",
    "    \n",
    "    spec['Sum'] = spec.drop('Wavelen', axis=1).sum(axis=1)\n",
    "\n",
    "    if full_output:\n",
    "        return spec\n",
    "    return spec[['Wavelen', 'Sum']]\n",
    "\n",
    "# link this function to the class\n",
    "SpectrumGenerator.get_spectrum = get_spectrum"
   ]
  },
  {
   "cell_type": "code",
   "execution_count": 123,
   "metadata": {},
   "outputs": [],
   "source": [
    "# test spectrum: 70% cu and 30% tin\n",
    "\n",
    "sg = SpectrumGenerator({'Cu':0.7, 'Sn':0.3}, 1., 1e+17)"
   ]
  },
  {
   "cell_type": "code",
   "execution_count": 124,
   "metadata": {},
   "outputs": [
    {
     "data": {
      "text/html": [
       "<div>\n",
       "<style scoped>\n",
       "    .dataframe tbody tr th:only-of-type {\n",
       "        vertical-align: middle;\n",
       "    }\n",
       "\n",
       "    .dataframe tbody tr th {\n",
       "        vertical-align: top;\n",
       "    }\n",
       "\n",
       "    .dataframe thead th {\n",
       "        text-align: right;\n",
       "    }\n",
       "</style>\n",
       "<table border=\"1\" class=\"dataframe\">\n",
       "  <thead>\n",
       "    <tr style=\"text-align: right;\">\n",
       "      <th></th>\n",
       "      <th>AtomicNum</th>\n",
       "      <th>Mass</th>\n",
       "      <th>Weight</th>\n",
       "      <th>Number</th>\n",
       "    </tr>\n",
       "  </thead>\n",
       "  <tbody>\n",
       "    <tr>\n",
       "      <th>Cu</th>\n",
       "      <td>29</td>\n",
       "      <td>63.546</td>\n",
       "      <td>0.7</td>\n",
       "      <td>0.813369</td>\n",
       "    </tr>\n",
       "    <tr>\n",
       "      <th>Sn</th>\n",
       "      <td>50</td>\n",
       "      <td>118.690</td>\n",
       "      <td>0.3</td>\n",
       "      <td>0.186631</td>\n",
       "    </tr>\n",
       "  </tbody>\n",
       "</table>\n",
       "</div>"
      ],
      "text/plain": [
       "    AtomicNum     Mass  Weight    Number\n",
       "Cu         29   63.546     0.7  0.813369\n",
       "Sn         50  118.690     0.3  0.186631"
      ]
     },
     "execution_count": 124,
     "metadata": {},
     "output_type": "execute_result"
    }
   ],
   "source": [
    "sg.elementData"
   ]
  },
  {
   "cell_type": "code",
   "execution_count": 125,
   "metadata": {},
   "outputs": [
    {
     "data": {
      "text/html": [
       "<div>\n",
       "<style scoped>\n",
       "    .dataframe tbody tr th:only-of-type {\n",
       "        vertical-align: middle;\n",
       "    }\n",
       "\n",
       "    .dataframe tbody tr th {\n",
       "        vertical-align: top;\n",
       "    }\n",
       "\n",
       "    .dataframe thead th {\n",
       "        text-align: right;\n",
       "    }\n",
       "</style>\n",
       "<table border=\"1\" class=\"dataframe\">\n",
       "  <thead>\n",
       "    <tr style=\"text-align: right;\">\n",
       "      <th></th>\n",
       "      <th>Element</th>\n",
       "      <th>SpecNum</th>\n",
       "      <th>IonizationEnergy</th>\n",
       "      <th>PartitionFunction</th>\n",
       "      <th>Number</th>\n",
       "    </tr>\n",
       "  </thead>\n",
       "  <tbody>\n",
       "    <tr>\n",
       "      <th>Cu-I</th>\n",
       "      <td>Cu</td>\n",
       "      <td>1</td>\n",
       "      <td>7.726380</td>\n",
       "      <td>5.333798</td>\n",
       "      <td>0.070653</td>\n",
       "    </tr>\n",
       "    <tr>\n",
       "      <th>Cu-II</th>\n",
       "      <td>Cu</td>\n",
       "      <td>2</td>\n",
       "      <td>20.292390</td>\n",
       "      <td>2.115692</td>\n",
       "      <td>0.742716</td>\n",
       "    </tr>\n",
       "    <tr>\n",
       "      <th>Sn-I</th>\n",
       "      <td>Sn</td>\n",
       "      <td>1</td>\n",
       "      <td>7.343918</td>\n",
       "      <td>9.707661</td>\n",
       "      <td>0.010030</td>\n",
       "    </tr>\n",
       "    <tr>\n",
       "      <th>Sn-II</th>\n",
       "      <td>Sn</td>\n",
       "      <td>2</td>\n",
       "      <td>14.633070</td>\n",
       "      <td>4.399794</td>\n",
       "      <td>0.176601</td>\n",
       "    </tr>\n",
       "  </tbody>\n",
       "</table>\n",
       "</div>"
      ],
      "text/plain": [
       "      Element  SpecNum  IonizationEnergy  PartitionFunction    Number\n",
       "Cu-I       Cu        1          7.726380           5.333798  0.070653\n",
       "Cu-II      Cu        2         20.292390           2.115692  0.742716\n",
       "Sn-I       Sn        1          7.343918           9.707661  0.010030\n",
       "Sn-II      Sn        2         14.633070           4.399794  0.176601"
      ]
     },
     "execution_count": 125,
     "metadata": {},
     "output_type": "execute_result"
    }
   ],
   "source": [
    "sg.specData"
   ]
  },
  {
   "cell_type": "code",
   "execution_count": 128,
   "metadata": {},
   "outputs": [
    {
     "data": {
      "image/png": "[encoded data removed]",
      "text/plain": [
       "<Figure size 1400x400 with 1 Axes>"
      ]
     },
     "metadata": {},
     "output_type": "display_data"
    }
   ],
   "source": [
    "# spectrum with equall spaced sampling\n",
    "x = np.linspace(300, 600, 10001)\n",
    "\n",
    "spec = sg.get_spectrum(x, res = 1000)\n",
    "\n",
    "fig, ax = plt.subplots(1, 1, figsize = [14, 4])\n",
    "ax.plot(spec['Wavelen'], spec['Sum'], '-', lw = 1, )\n",
    "ax.set(xlabel = 'wavelength (nm)', ylabel = 'intensity')\n",
    "plt.show()"
   ]
  },
  {
   "cell_type": "code",
   "execution_count": 192,
   "metadata": {},
   "outputs": [],
   "source": [
    "# adaptive sampling: regions with more lines gets more samples\n",
    "\n",
    "def adaptive_sample(xleft, xright, x, res = 10): # NOTE: testing, not optimized\n",
    "\n",
    "    x = np.unique(x) # get unique lines\n",
    "\n",
    "    # sub-dividing the range so that a subdivision gets only 0 or 1 line\n",
    "    c1 = [(xleft, xright, x[(xleft <= x) & (x < xright)])]\n",
    "    while 1:\n",
    "        c2   = []\n",
    "        stop = True\n",
    "        for xl, xr, _x in c1:\n",
    "\n",
    "            # if the sub-division has 0 or 1 line only, no sub-division\n",
    "            if len(_x) < 2:\n",
    "                c2.append([xl, xr, _x])\n",
    "                continue\n",
    "\n",
    "            # otherwise, equally divide the range into 2\n",
    "            stop = False\n",
    "            xc   = 0.5 * (xl + xr)\n",
    "            c2.append([xl, xc, _x[(xl < _x) & (_x <= xc)]])\n",
    "            c2.append([xc, xr, _x[(xc < _x) & (_x < xr)]])\n",
    "        \n",
    "        c1 = c2 \n",
    "        if stop:\n",
    "            break\n",
    "\n",
    "    # sample points in each sub-divisions and combine together\n",
    "    return np.hstack([np.linspace(xl, xr, res) for xl, xr, _ in c1])"
   ]
  },
  {
   "cell_type": "code",
   "execution_count": 194,
   "metadata": {},
   "outputs": [
    {
     "data": {
      "image/png": "[encoded data removed]",
      "text/plain": [
       "<Figure size 1400x400 with 2 Axes>"
      ]
     },
     "metadata": {},
     "output_type": "display_data"
    }
   ],
   "source": [
    "# spectrum with un-equal sampling\n",
    "x = adaptive_sample(300, 600, x = sg.lines['Wavelen'].values, res = 20)\n",
    "\n",
    "spec = sg.get_spectrum(x, res = 1000)\n",
    "\n",
    "fig, ax = plt.subplots(1, 1, figsize = [14, 4])\n",
    "ax.plot(spec['Wavelen'], spec['Sum'], '-', lw = 1, )\n",
    "ax.set(xlabel = 'wavelength (nm)', ylabel = 'intensity')\n",
    "\n",
    "# sampling density\n",
    "ax2 = ax.twinx()\n",
    "ax2.hist(x, bins = 101, range = [300, 600], density = True, lw = 1, color = 'black', alpha = 0.1)\n",
    "ax2.grid(0)\n",
    "plt.show()"
   ]
  }
 ],
 "metadata": {
  "kernelspec": {
   "display_name": "Python 3.10.6 64-bit",
   "language": "python",
   "name": "python3"
  },
  "language_info": {
   "codemirror_mode": {
    "name": "ipython",
    "version": 3
   },
   "file_extension": ".py",
   "mimetype": "text/x-python",
   "name": "python",
   "nbconvert_exporter": "python",
   "pygments_lexer": "ipython3",
   "version": "3.10.6"
  },
  "orig_nbformat": 4,
  "vscode": {
   "interpreter": {
    "hash": "31f2aee4e71d21fbe5cf8b01ff0e069b9275f58929596ceb00d14d90e3e16cd6"
   }
  }
 },
 "nbformat": 4,
 "nbformat_minor": 2
}
