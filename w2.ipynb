{
 "cells": [
  {
   "cell_type": "markdown",
   "metadata": {},
   "source": [
    "# `pylibs` Test 1"
   ]
  },
  {
   "cell_type": "code",
   "execution_count": 3,
   "metadata": {},
   "outputs": [],
   "source": [
    "import numpy as np\n",
    "from pylibs.plasma import plasma\n",
    "from pylibs.analysis import boltzmann, optimizePlasma\n",
    "\n",
    "from test1 import loadlines, levels # test functions to load lines and levels data\n",
    "\n",
    "import matplotlib.pyplot as plt\n",
    "plt.style.use( 'ggplot' )"
   ]
  },
  {
   "cell_type": "markdown",
   "metadata": {},
   "source": [
    "## A Test Plasma: Copper - Tin "
   ]
  },
  {
   "cell_type": "code",
   "execution_count": 2,
   "metadata": {},
   "outputs": [],
   "source": [
    "# copper - tin element data tree\n",
    "\n",
    "lines = loadlines(\"percistent_lines.txt\", ['cu', 'sn'] )\n",
    "\n",
    "etree = {\n",
    "            'cu': {\n",
    "                    'm'      : 63.546,\n",
    "                    'species': [\n",
    "                                    {\n",
    "                                        'Vs'    : 7.726380,\n",
    "                                        'levels': levels('cu-1'),\n",
    "                                        'lines' : lines,\n",
    "                                    },\n",
    "                                    {\n",
    "                                        'Vs'    : 20.29239,\n",
    "                                        'levels': levels('cu-2'),\n",
    "                                        'lines' : lines,\n",
    "                                    },\n",
    "                            ]\n",
    "                },\n",
    "            'sn': {\n",
    "                    'm'      : 118.710,\n",
    "                    'species': [\n",
    "                                    {\n",
    "                                        'Vs'    : 7.343918,\n",
    "                                        'levels': levels('sn-1'),\n",
    "                                        'lines' : lines,\n",
    "                                    },\n",
    "                                    {\n",
    "                                        'Vs'    : 14.63307,\n",
    "                                        'levels': levels('sn-2'),\n",
    "                                        'lines' : lines,\n",
    "                                    }\n",
    "                            ]\n",
    "                },\n",
    "        }\n",
    "\n",
    "c = { 'cu': 'tab:blue', 'sn': 'green', }\n",
    "\n",
    "copper_tin = plasma('copper_tin', etree)\n",
    "\n",
    "a = copper_tin(70.0)  # copper and tin in 70:30 ratio\n",
    "\n",
    "a.setup(1.0, 1.0E+17) # set up the plasma at Te = 1 eV and Ne = 1E+17 /cc\n",
    "\n",
    "a.lock() # lock plasma to protect data"
   ]
  },
  {
   "cell_type": "markdown",
   "metadata": {},
   "source": [
    "## Getting Plasma Conditions Back"
   ]
  },
  {
   "cell_type": "code",
   "execution_count": 9,
   "metadata": {},
   "outputs": [
    {
     "name": "stdout",
     "output_type": "stream",
     "text": [
      "optimum: Te = 1.000 eV, conc.: copper = 70.000, tin = 30.000\n",
      "exact  : Te = 1.000 eV, conc.: copper = 70.000, tin = 30.000\n"
     ]
    }
   ],
   "source": [
    "lnt = a.lines          # line table\n",
    "\n",
    "b   = copper_tin(50.0) # plasma setup at guess conditions \n",
    "b.setup(0.5, 1.0E+17)\n",
    "b.lock()\n",
    "\n",
    "optimizePlasma( lnt, b )\n",
    "\n",
    "print(\n",
    "            \"optimum: Te = {0:.3f} eV, conc.: copper = {1:.3f}, tin = {2:.3f}\".format(\n",
    "                                                                                          b.Te, \n",
    "                                                                                          b.composition['cu'],\n",
    "                                                                                          b.composition['sn']\n",
    "                                                                                     )\n",
    "     )\n",
    "\n",
    "print(\n",
    "            \"exact  : Te = {0:.3f} eV, conc.: copper = {1:.3f}, tin = {2:.3f}\".format(\n",
    "                                                                                          a.Te, \n",
    "                                                                                          a.composition['cu'],\n",
    "                                                                                          a.composition['sn']\n",
    "                                                                                     )\n",
    "     )\n",
    "\n",
    "boltzmann(lnt, 2, b)  # get boltzmann plot coordinates (optimum)"
   ]
  },
  {
   "cell_type": "code",
   "execution_count": 11,
   "metadata": {},
   "outputs": [
    {
     "data": {
      "image/png": "[encoded data removed]",
      "text/plain": [
       "<Figure size 1296x432 with 2 Axes>"
      ]
     },
     "metadata": {},
     "output_type": "display_data"
    }
   ],
   "source": [
    "fig, (ax1, ax2) = plt.subplots(1, 2, figsize = [18, 6])\n",
    "\n",
    "ax1.scatter( lnt.wavelen, lnt.I, c = np.array([ c[x] for x in lnt.elem ]) )\n",
    "ax1.vlines( lnt.wavelen, 0.0, lnt.I, colors = np.array([ c[x] for x in lnt.elem ]) )\n",
    "ax1.scatter([], [], c = c['cu'], label = 'Cu')\n",
    "ax1.scatter([], [], c = c['sn'], label = 'Sn')\n",
    "\n",
    "ax1.legend(\n",
    "                bbox_to_anchor = (0.0, 1.02, 1.0, 0.102),\n",
    "                loc = 'lower left', ncol = 2,\n",
    "                mode = 'expand', borderaxespad = 0,\n",
    "          )\n",
    "ax1.set( xlabel = '$\\\\lambda$', ylabel = '$I(\\\\lambda)$' )\n",
    "\n",
    "ax2.scatter( lnt.boltzX, lnt.boltzY , c = np.array([ c[x] for x in lnt.elem ]) )\n",
    "\n",
    "i = np.argsort( lnt.boltzX )\n",
    "ax2.plot( lnt.boltzX[i], lnt.boltzY[i] , color = 'black', lw = 1, zorder = 0 )\n",
    "\n",
    "ax2.scatter([], [], c = c['cu'], label = 'Cu')\n",
    "ax2.scatter([], [], c = c['sn'], label = 'Sn')\n",
    "\n",
    "ax2.legend(\n",
    "                bbox_to_anchor = (0.0, 1.02, 1.0, 0.102),\n",
    "                loc = 'lower left', ncol = 2,\n",
    "                mode = 'expand', borderaxespad = 0,\n",
    "          )\n",
    "ax2.set( xlabel = 'X', ylabel = '$Y$' )\n",
    "\n",
    "plt.show()"
   ]
  },
  {
   "cell_type": "code",
   "execution_count": null,
   "metadata": {},
   "outputs": [],
   "source": []
  }
 ],
 "metadata": {
  "interpreter": {
   "hash": "31f2aee4e71d21fbe5cf8b01ff0e069b9275f58929596ceb00d14d90e3e16cd6"
  },
  "kernelspec": {
   "display_name": "Python 3.8.10 64-bit",
   "language": "python",
   "name": "python3"
  },
  "language_info": {
   "codemirror_mode": {
    "name": "ipython",
    "version": 3
   },
   "file_extension": ".py",
   "mimetype": "text/x-python",
   "name": "python",
   "nbconvert_exporter": "python",
   "pygments_lexer": "ipython3",
   "version": "3.8.10"
  },
  "orig_nbformat": 4
 },
 "nbformat": 4,
 "nbformat_minor": 2
}
