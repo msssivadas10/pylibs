{
 "cells": [
  {
   "cell_type": "markdown",
   "metadata": {},
   "source": [
    "# Testing `pylibs`\n"
   ]
  },
  {
   "cell_type": "code",
   "execution_count": 2,
   "metadata": {},
   "outputs": [],
   "source": [
    "import testutils as u\n",
    "import numpy as np"
   ]
  },
  {
   "cell_type": "code",
   "execution_count": null,
   "metadata": {},
   "outputs": [],
   "source": [
    "p = u.testPlama_CuSn() # plasma with default settings\n",
    "\n",
    "import matplotlib.pyplot as plt\n",
    "plt.style.use('ggplot')\n",
    "\n",
    "plt.figure()\n",
    "y = p.computeSpectrum(350., 650., 1000)\n",
    "plt.plot(y.c('lambda'), y.c('sum'))\n",
    "plt.show()"
   ]
  },
  {
   "cell_type": "markdown",
   "metadata": {},
   "source": [
    "\n",
    "\n",
    "def sepctrum_test():\n",
    "    ref = {\n",
    "        510.554 : 'cu-1',\n",
    "        515.324 : 'cu-1',\n",
    "        521.820 : 'cu-1',\n",
    "        380.1011: 'sn-1',\n",
    "        452.4734: 'sn-1', \n",
    "        533.2339: 'sn-2', \n",
    "        556.1910: 'sn-2', \n",
    "        558.8815: 'sn-2', \n",
    "        579.8860: 'sn-2', \n",
    "        645.3542: 'sn-2', \n",
    "        684.4186: 'sn-2',\n",
    "    }\n",
    "\n",
    "    s = _test_cu_sn_spectrum()\n",
    "    q = QAnalyser(s, list(s.attrs['plasma'].comp.keys()))\n",
    "    q.setReferenceLines(ref)\n",
    "\n",
    "    q.searchPeaks(match=1, dist_ub=1.)\n",
    "\n",
    "    # q._lines.print()\n",
    "\n",
    "    q.makeBoltzPlane(1., 1.e+17, fmt = 'saha')\n",
    "\n",
    "    b = q.getBoltzPlane()\n",
    "    # t = b.getPoints()\n",
    "    # t.print()\n",
    "\n",
    "    # b.getLineParam().print()\n",
    "    b.estimateTe('cu')\n",
    "\n",
    "    # import matplotlib.pyplot as plt\n",
    "    # plt.style.use('ggplot')\n",
    "\n",
    "    # plt.figure()\n",
    "    # sp = ... \n",
    "    # for elem in q._elem_idx.keys():\n",
    "    #     t = b.getPoints(elem, sp)\n",
    "    #     plt.plot(t.c('x'), t.c('y'), '+')\n",
    "    # plt.show()\n",
    "    \n",
    "\n",
    "if __name__ == \"__main__\":\n",
    "    sepctrum_test()"
   ]
  }
 ],
 "metadata": {
  "interpreter": {
   "hash": "31f2aee4e71d21fbe5cf8b01ff0e069b9275f58929596ceb00d14d90e3e16cd6"
  },
  "kernelspec": {
   "display_name": "Python 3.6.9 64-bit",
   "language": "python",
   "name": "python3"
  },
  "language_info": {
   "codemirror_mode": {
    "name": "ipython",
    "version": 3
   },
   "file_extension": ".py",
   "mimetype": "text/x-python",
   "name": "python",
   "nbconvert_exporter": "python",
   "pygments_lexer": "ipython3",
   "version": "3.6.9"
  },
  "orig_nbformat": 4
 },
 "nbformat": 4,
 "nbformat_minor": 2
}
